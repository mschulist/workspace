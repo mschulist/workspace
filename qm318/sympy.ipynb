{
 "cells": [
  {
   "cell_type": "code",
   "execution_count": 1,
   "metadata": {},
   "outputs": [],
   "source": [
    "from sympy.physics.hydrogen import Psi_nlm\n",
    "from sympy import Symbol, integrate, conjugate, pi, sin, cos, oo"
   ]
  },
  {
   "cell_type": "code",
   "execution_count": 2,
   "metadata": {},
   "outputs": [],
   "source": [
    "r = Symbol(\"r\", positive=True)\n",
    "phi = Symbol(\"phi\", real=True)\n",
    "theta = Symbol(\"theta\", real=True)\n",
    "e = Symbol(\"e\", real=True)\n",
    "epsilon = Symbol(\"epsilon\", real=True)"
   ]
  },
  {
   "cell_type": "code",
   "execution_count": 3,
   "metadata": {},
   "outputs": [],
   "source": [
    "psi_300 = Psi_nlm(3, 0, 0, r, phi, theta)\n",
    "psi_310 = Psi_nlm(3, 1, 0, r, phi, theta)\n",
    "\n",
    "H_prime = e * epsilon * r * cos(theta)"
   ]
  },
  {
   "cell_type": "code",
   "execution_count": 4,
   "metadata": {},
   "outputs": [
    {
     "data": {
      "text/latex": [
       "$\\displaystyle - 3 \\sqrt{6} e \\epsilon$"
      ],
      "text/plain": [
       "-3*sqrt(6)*e*epsilon"
      ]
     },
     "execution_count": 4,
     "metadata": {},
     "output_type": "execute_result"
    }
   ],
   "source": [
    "func = conjugate(psi_300) * H_prime * psi_310\n",
    "\n",
    "# r^2 cos theta term needed at the end when using spherical coords\n",
    "j = r**2 * sin(theta)\n",
    "\n",
    "integrate(func * j, (r, 0, oo), (phi, 0, 2 * pi), (theta, 0, pi))"
   ]
  },
  {
   "cell_type": "code",
   "execution_count": 5,
   "metadata": {},
   "outputs": [
    {
     "data": {
      "text/latex": [
       "$\\displaystyle \\frac{\\sqrt{6} e \\epsilon r^{4} \\left(4 - \\frac{2 r}{3}\\right) \\left(\\frac{2 r^{2}}{9} - 2 r + 3\\right) e^{- \\frac{2 r}{3}} \\sin{\\left(\\theta \\right)} \\cos^{2}{\\left(\\theta \\right)}}{1458 \\pi}$"
      ],
      "text/plain": [
       "sqrt(6)*e*epsilon*r**4*(4 - 2*r/3)*(2*r**2/9 - 2*r + 3)*exp(-2*r/3)*sin(theta)*cos(theta)**2/(1458*pi)"
      ]
     },
     "execution_count": 5,
     "metadata": {},
     "output_type": "execute_result"
    }
   ],
   "source": [
    "func * j"
   ]
  },
  {
   "cell_type": "code",
   "execution_count": null,
   "metadata": {},
   "outputs": [],
   "source": []
  }
 ],
 "metadata": {
  "kernelspec": {
   "display_name": "perch-agile-modeling",
   "language": "python",
   "name": "python3"
  },
  "language_info": {
   "codemirror_mode": {
    "name": "ipython",
    "version": 3
   },
   "file_extension": ".py",
   "mimetype": "text/x-python",
   "name": "python",
   "nbconvert_exporter": "python",
   "pygments_lexer": "ipython3",
   "version": "3.11.9"
  }
 },
 "nbformat": 4,
 "nbformat_minor": 2
}
