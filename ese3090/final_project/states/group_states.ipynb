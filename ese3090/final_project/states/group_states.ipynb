{
 "cells": [
  {
   "cell_type": "code",
   "execution_count": 1,
   "metadata": {},
   "outputs": [],
   "source": [
    "import polars as pl\n",
    "import numpy as np"
   ]
  },
  {
   "cell_type": "code",
   "execution_count": 7,
   "metadata": {},
   "outputs": [],
   "source": [
    "presidents = (\n",
    "    pl.read_csv(\"../data/1976-2020-president.csv\", null_values=[\"NA\"])\n",
    "    .filter(pl.col(\"year\") >= 2016)\n",
    "    .group_by([\"year\", \"state\"])\n",
    "    .agg(pl.col(\"candidate\").sort_by(\"totalvotes\").first())\n",
    ")"
   ]
  },
  {
   "cell_type": "code",
   "execution_count": 8,
   "metadata": {},
   "outputs": [
    {
     "data": {
      "text/html": [
       "<div><style>\n",
       ".dataframe > thead > tr,\n",
       ".dataframe > tbody > tr {\n",
       "  text-align: right;\n",
       "  white-space: pre-wrap;\n",
       "}\n",
       "</style>\n",
       "<small>shape: (102, 3)</small><table border=\"1\" class=\"dataframe\"><thead><tr><th>year</th><th>state</th><th>candidate</th></tr><tr><td>i64</td><td>str</td><td>str</td></tr></thead><tbody><tr><td>2020</td><td>&quot;NEBRASKA&quot;</td><td>&quot;TRUMP, DONALD J.&quot;</td></tr><tr><td>2016</td><td>&quot;NEW MEXICO&quot;</td><td>&quot;CLINTON, HILLARY&quot;</td></tr><tr><td>2020</td><td>&quot;MARYLAND&quot;</td><td>&quot;TRUMP, DONALD J.&quot;</td></tr><tr><td>2020</td><td>&quot;NORTH DAKOTA&quot;</td><td>&quot;TRUMP, DONALD J.&quot;</td></tr><tr><td>2016</td><td>&quot;IDAHO&quot;</td><td>&quot;TRUMP, DONALD J.&quot;</td></tr><tr><td>&hellip;</td><td>&hellip;</td><td>&hellip;</td></tr><tr><td>2016</td><td>&quot;IOWA&quot;</td><td>&quot;TRUMP, DONALD J.&quot;</td></tr><tr><td>2016</td><td>&quot;RHODE ISLAND&quot;</td><td>&quot;CLINTON, HILLARY&quot;</td></tr><tr><td>2020</td><td>&quot;MISSISSIPPI&quot;</td><td>&quot;BIDEN, JOSEPH R. JR&quot;</td></tr><tr><td>2016</td><td>&quot;WASHINGTON&quot;</td><td>&quot;CLINTON, HILLARY&quot;</td></tr><tr><td>2016</td><td>&quot;HAWAII&quot;</td><td>&quot;CLINTON, HILLARY&quot;</td></tr></tbody></table></div>"
      ],
      "text/plain": [
       "shape: (102, 3)\n",
       "┌──────┬──────────────┬─────────────────────┐\n",
       "│ year ┆ state        ┆ candidate           │\n",
       "│ ---  ┆ ---          ┆ ---                 │\n",
       "│ i64  ┆ str          ┆ str                 │\n",
       "╞══════╪══════════════╪═════════════════════╡\n",
       "│ 2020 ┆ NEBRASKA     ┆ TRUMP, DONALD J.    │\n",
       "│ 2016 ┆ NEW MEXICO   ┆ CLINTON, HILLARY    │\n",
       "│ 2020 ┆ MARYLAND     ┆ TRUMP, DONALD J.    │\n",
       "│ 2020 ┆ NORTH DAKOTA ┆ TRUMP, DONALD J.    │\n",
       "│ 2016 ┆ IDAHO        ┆ TRUMP, DONALD J.    │\n",
       "│ …    ┆ …            ┆ …                   │\n",
       "│ 2016 ┆ IOWA         ┆ TRUMP, DONALD J.    │\n",
       "│ 2016 ┆ RHODE ISLAND ┆ CLINTON, HILLARY    │\n",
       "│ 2020 ┆ MISSISSIPPI  ┆ BIDEN, JOSEPH R. JR │\n",
       "│ 2016 ┆ WASHINGTON   ┆ CLINTON, HILLARY    │\n",
       "│ 2016 ┆ HAWAII       ┆ CLINTON, HILLARY    │\n",
       "└──────┴──────────────┴─────────────────────┘"
      ]
     },
     "execution_count": 8,
     "metadata": {},
     "output_type": "execute_result"
    }
   ],
   "source": [
    "presidents"
   ]
  },
  {
   "cell_type": "code",
   "execution_count": 24,
   "metadata": {},
   "outputs": [
    {
     "data": {
      "text/html": [
       "<div><style>\n",
       ".dataframe > thead > tr,\n",
       ".dataframe > tbody > tr {\n",
       "  text-align: right;\n",
       "  white-space: pre-wrap;\n",
       "}\n",
       "</style>\n",
       "<small>shape: (9,)</small><table border=\"1\" class=\"dataframe\"><thead><tr><th>state</th></tr><tr><td>list[str]</td></tr></thead><tbody><tr><td>[&quot;NEW MEXICO&quot;]</td></tr><tr><td>[&quot;IDAHO&quot;, &quot;MISSISSIPPI&quot;, … &quot;IOWA&quot;]</td></tr><tr><td>[&quot;DELAWARE&quot;, &quot;GEORGIA&quot;]</td></tr><tr><td>[&quot;MONTANA&quot;, &quot;NEVADA&quot;, &quot;NEW HAMPSHIRE&quot;]</td></tr><tr><td>[&quot;WEST VIRGINIA&quot;, &quot;ALABAMA&quot;, … &quot;MISSISSIPPI&quot;]</td></tr><tr><td>[&quot;NEW MEXICO&quot;, &quot;DISTRICT OF COLUMBIA&quot;, … &quot;HAWAII&quot;]</td></tr><tr><td>[&quot;SOUTH CAROLINA&quot;, &quot;ARKANSAS&quot;]</td></tr><tr><td>[&quot;NEBRASKA&quot;, &quot;MARYLAND&quot;, … &quot;MISSOURI&quot;]</td></tr><tr><td>[&quot;UTAH&quot;]</td></tr></tbody></table></div>"
      ],
      "text/plain": [
       "shape: (9,)\n",
       "Series: 'state' [list[str]]\n",
       "[\n",
       "\t[\"NEW MEXICO\"]\n",
       "\t[\"IDAHO\", \"MISSISSIPPI\", … \"IOWA\"]\n",
       "\t[\"DELAWARE\", \"GEORGIA\"]\n",
       "\t[\"MONTANA\", \"NEVADA\", \"NEW HAMPSHIRE\"]\n",
       "\t[\"WEST VIRGINIA\", \"ALABAMA\", … \"MISSISSIPPI\"]\n",
       "\t[\"NEW MEXICO\", \"DISTRICT OF COLUMBIA\", … \"HAWAII\"]\n",
       "\t[\"SOUTH CAROLINA\", \"ARKANSAS\"]\n",
       "\t[\"NEBRASKA\", \"MARYLAND\", … \"MISSOURI\"]\n",
       "\t[\"UTAH\"]\n",
       "]"
      ]
     },
     "execution_count": 24,
     "metadata": {},
     "output_type": "execute_result"
    }
   ],
   "source": [
    "grouped = presidents.group_by([\"year\", \"candidate\"]).all()\n",
    "\n",
    "coalitions = grouped[\"state\"]\n",
    "coalitions"
   ]
  },
  {
   "cell_type": "code",
   "execution_count": 28,
   "metadata": {},
   "outputs": [],
   "source": [
    "df = presidents.sort(\"year\")\n",
    "\n",
    "# Create a voting pattern for each state by collecting the candidates they voted for, ordered by year\n",
    "state_votes = df.group_by(\"state\").all().rename({\"candidate\": \"voting_pattern\"})\n",
    "\n",
    "# Group states by their voting patterns to find coalitions\n",
    "coalitions = state_votes.group_by(\"voting_pattern\").all().rename({\"state\": \"states\"})\n",
    "\n",
    "# Extract the list of coalitions\n",
    "coalition_list = coalitions[\"states\"].to_list()"
   ]
  },
  {
   "cell_type": "markdown",
   "metadata": {},
   "source": [
    "# PANDAS BELOW!"
   ]
  },
  {
   "cell_type": "code",
   "execution_count": 25,
   "metadata": {},
   "outputs": [],
   "source": [
    "import pandas as pd"
   ]
  },
  {
   "cell_type": "code",
   "execution_count": 43,
   "metadata": {},
   "outputs": [],
   "source": [
    "df = pd.read_csv(\"../data/1976-2020-president.csv\")\n",
    "df = df[df[\"year\"] >= 2016]"
   ]
  },
  {
   "cell_type": "code",
   "execution_count": 44,
   "metadata": {},
   "outputs": [
    {
     "name": "stdout",
     "output_type": "stream",
     "text": [
      "                                       voting_pattern  \\\n",
      "44  ((CLINTON, HILLARY, JOHNSON, GARY, STEIN, JILL...   \n",
      "\n",
      "                states_in_block  \n",
      "44  [ALABAMA, KANSAS, NEBRASKA]  \n"
     ]
    }
   ],
   "source": [
    "# Select the columns relevant for comparison\n",
    "comparison_cols = [\"year\", \"office\", \"state\", \"candidate\"]\n",
    "\n",
    "# Group votes by state, year, and office, and aggregate candidates into tuples\n",
    "state_patterns = (\n",
    "    df.groupby([\"state\", \"year\", \"office\"])[\"candidate\"]\n",
    "    .apply(\n",
    "        lambda x: tuple(sorted(str(c) for c in x if pd.notna(c)))\n",
    "    )  # Convert to string and sort\n",
    "    .reset_index()\n",
    ")\n",
    "\n",
    "# Pivot the table to align states' voting patterns across years and offices\n",
    "pivot_table = state_patterns.pivot_table(\n",
    "    index=\"state\",\n",
    "    columns=[\"year\", \"office\"],\n",
    "    values=\"candidate\",\n",
    "    aggfunc=lambda x: x,  # Pass the already-processed tuple\n",
    ")\n",
    "\n",
    "# Find identical voting patterns across states\n",
    "block_patterns = pivot_table.apply(lambda row: tuple(row), axis=1).reset_index()\n",
    "block_patterns.columns = [\"state\", \"voting_pattern\"]\n",
    "\n",
    "# Group by voting pattern to find states with identical patterns\n",
    "state_blocks = (\n",
    "    block_patterns.groupby(\"voting_pattern\")[\"state\"].apply(list).reset_index()\n",
    ")\n",
    "state_blocks.columns = [\"voting_pattern\", \"states_in_block\"]\n",
    "\n",
    "# Filter for blocks with more than one state\n",
    "blocks_with_multiple_states = state_blocks[\n",
    "    state_blocks[\"states_in_block\"].apply(len) > 1\n",
    "]\n",
    "\n",
    "# Print the result\n",
    "print(blocks_with_multiple_states)"
   ]
  },
  {
   "cell_type": "code",
   "execution_count": null,
   "metadata": {},
   "outputs": [],
   "source": []
  }
 ],
 "metadata": {
  "kernelspec": {
   "display_name": "cse217a",
   "language": "python",
   "name": "python3"
  },
  "language_info": {
   "codemirror_mode": {
    "name": "ipython",
    "version": 3
   },
   "file_extension": ".py",
   "mimetype": "text/x-python",
   "name": "python",
   "nbconvert_exporter": "python",
   "pygments_lexer": "ipython3",
   "version": "3.10.14"
  }
 },
 "nbformat": 4,
 "nbformat_minor": 2
}
