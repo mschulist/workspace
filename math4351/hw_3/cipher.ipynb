{
 "cells": [
  {
   "cell_type": "code",
   "execution_count": 3,
   "metadata": {},
   "outputs": [],
   "source": [
    "import numpy as np"
   ]
  },
  {
   "cell_type": "code",
   "execution_count": 7,
   "metadata": {},
   "outputs": [],
   "source": [
    "def f(x: np.ndarray):\n",
    "    print(x)\n",
    "    A = np.array(\n",
    "        [\n",
    "            [1, 2, 3],\n",
    "            [0, 4, 3],\n",
    "            [3, 5, 3],\n",
    "        ]\n",
    "    )\n",
    "    b = np.array([1, 2, 3])\n",
    "\n",
    "    return (A @ x + b) % 26"
   ]
  },
  {
   "cell_type": "code",
   "execution_count": 8,
   "metadata": {},
   "outputs": [],
   "source": [
    "def encrypt_word(word: str, func: callable):\n",
    "    res = \"\"\n",
    "    for i in range(len(word) // 3):\n",
    "        chars = word[i * 3 : i * 3 + 3]\n",
    "        numeric_chars = np.array([ord(c) - 97 for c in chars])\n",
    "        encrypted_numeric = func(numeric_chars)\n",
    "        encrypted_chars = [chr(num_char + 97) for num_char in encrypted_numeric]\n",
    "        for c in encrypted_chars:\n",
    "            res += c\n",
    "\n",
    "    return res"
   ]
  },
  {
   "cell_type": "code",
   "execution_count": 9,
   "metadata": {},
   "outputs": [
    {
     "name": "stdout",
     "output_type": "stream",
     "text": [
      "[ 1  0 13]\n",
      "[ 0 13  0]\n"
     ]
    },
    {
     "data": {
      "text/plain": [
       "'pptbcq'"
      ]
     },
     "execution_count": 9,
     "metadata": {},
     "output_type": "execute_result"
    }
   ],
   "source": [
    "encrypt_word(\"banana\", f)\n"
   ]
  },
  {
   "cell_type": "code",
   "execution_count": 11,
   "metadata": {},
   "outputs": [],
   "source": [
    "def f_inv(x: np.ndarray):\n",
    "    print(x)\n",
    "    A_inv = np.array(\n",
    "        [\n",
    "            [15, 7, 4],\n",
    "            [7, 4, 15],\n",
    "            [8, 21, 6],\n",
    "        ]\n",
    "    )\n",
    "    b = np.array([1, 2, 3])\n",
    "\n",
    "    return (A_inv @ (x - b)) % 26"
   ]
  },
  {
   "cell_type": "code",
   "execution_count": 12,
   "metadata": {},
   "outputs": [
    {
     "name": "stdout",
     "output_type": "stream",
     "text": [
      "[23 18  0]\n",
      "[12 12  6]\n"
     ]
    },
    {
     "data": {
      "text/plain": [
       "'orange'"
      ]
     },
     "execution_count": 12,
     "metadata": {},
     "output_type": "execute_result"
    }
   ],
   "source": [
    "encrypt_word(\"xsammg\", f_inv)\n"
   ]
  },
  {
   "cell_type": "code",
   "execution_count": null,
   "metadata": {},
   "outputs": [],
   "source": []
  },
  {
   "cell_type": "code",
   "execution_count": null,
   "metadata": {},
   "outputs": [],
   "source": []
  }
 ],
 "metadata": {
  "kernelspec": {
   "display_name": "cse217a",
   "language": "python",
   "name": "python3"
  },
  "language_info": {
   "codemirror_mode": {
    "name": "ipython",
    "version": 3
   },
   "file_extension": ".py",
   "mimetype": "text/x-python",
   "name": "python",
   "nbconvert_exporter": "python",
   "pygments_lexer": "ipython3",
   "version": "3.10.14"
  }
 },
 "nbformat": 4,
 "nbformat_minor": 2
}
