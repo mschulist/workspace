{
 "cells": [
  {
   "cell_type": "code",
   "execution_count": 2,
   "metadata": {},
   "outputs": [],
   "source": [
    "import polars as pl"
   ]
  },
  {
   "cell_type": "code",
   "execution_count": 3,
   "metadata": {},
   "outputs": [],
   "source": [
    "college = pl.read_csv(\"data/electoral_college.csv\")"
   ]
  },
  {
   "cell_type": "code",
   "execution_count": 4,
   "metadata": {},
   "outputs": [
    {
     "data": {
      "text/html": [
       "<div><style>\n",
       ".dataframe > thead > tr,\n",
       ".dataframe > tbody > tr {\n",
       "  text-align: right;\n",
       "  white-space: pre-wrap;\n",
       "}\n",
       "</style>\n",
       "<small>shape: (51, 4)</small><table border=\"1\" class=\"dataframe\"><thead><tr><th>Full_State</th><th>Abb_State</th><th>Electoral_College_Votes</th><th>banzhaf_power_index</th></tr><tr><td>str</td><td>str</td><td>i64</td><td>f64</td></tr></thead><tbody><tr><td>&quot;Alabama&quot;</td><td>&quot;AL&quot;</td><td>9</td><td>1.6</td></tr><tr><td>&quot;Alaska&quot;</td><td>&quot;AK&quot;</td><td>3</td><td>0.7</td></tr><tr><td>&quot;Arizona&quot;</td><td>&quot;AZ&quot;</td><td>11</td><td>2.0</td></tr><tr><td>&quot;Arkansas&quot;</td><td>&quot;AR&quot;</td><td>6</td><td>1.1</td></tr><tr><td>&quot;California&quot;</td><td>&quot;CA&quot;</td><td>55</td><td>11.4</td></tr><tr><td>&hellip;</td><td>&hellip;</td><td>&hellip;</td><td>&hellip;</td></tr><tr><td>&quot;Virginia&quot;</td><td>&quot;VA&quot;</td><td>13</td><td>2.4</td></tr><tr><td>&quot;Washington&quot;</td><td>&quot;WA&quot;</td><td>12</td><td>2.2</td></tr><tr><td>&quot;West Virginia&quot;</td><td>&quot;WV&quot;</td><td>5</td><td>0.9</td></tr><tr><td>&quot;Wisconsin&quot;</td><td>&quot;WI&quot;</td><td>10</td><td>1.8</td></tr><tr><td>&quot;Wyoming&quot;</td><td>&quot;WY&quot;</td><td>3</td><td>0.6</td></tr></tbody></table></div>"
      ],
      "text/plain": [
       "shape: (51, 4)\n",
       "┌───────────────┬───────────┬─────────────────────────┬─────────────────────┐\n",
       "│ Full_State    ┆ Abb_State ┆ Electoral_College_Votes ┆ banzhaf_power_index │\n",
       "│ ---           ┆ ---       ┆ ---                     ┆ ---                 │\n",
       "│ str           ┆ str       ┆ i64                     ┆ f64                 │\n",
       "╞═══════════════╪═══════════╪═════════════════════════╪═════════════════════╡\n",
       "│ Alabama       ┆ AL        ┆ 9                       ┆ 1.6                 │\n",
       "│ Alaska        ┆ AK        ┆ 3                       ┆ 0.7                 │\n",
       "│ Arizona       ┆ AZ        ┆ 11                      ┆ 2.0                 │\n",
       "│ Arkansas      ┆ AR        ┆ 6                       ┆ 1.1                 │\n",
       "│ California    ┆ CA        ┆ 55                      ┆ 11.4                │\n",
       "│ …             ┆ …         ┆ …                       ┆ …                   │\n",
       "│ Virginia      ┆ VA        ┆ 13                      ┆ 2.4                 │\n",
       "│ Washington    ┆ WA        ┆ 12                      ┆ 2.2                 │\n",
       "│ West Virginia ┆ WV        ┆ 5                       ┆ 0.9                 │\n",
       "│ Wisconsin     ┆ WI        ┆ 10                      ┆ 1.8                 │\n",
       "│ Wyoming       ┆ WY        ┆ 3                       ┆ 0.6                 │\n",
       "└───────────────┴───────────┴─────────────────────────┴─────────────────────┘"
      ]
     },
     "execution_count": 4,
     "metadata": {},
     "output_type": "execute_result"
    }
   ],
   "source": [
    "college"
   ]
  },
  {
   "cell_type": "code",
   "execution_count": 5,
   "metadata": {},
   "outputs": [
    {
     "data": {
      "text/html": [
       "<div><style>\n",
       ".dataframe > thead > tr,\n",
       ".dataframe > tbody > tr {\n",
       "  text-align: right;\n",
       "  white-space: pre-wrap;\n",
       "}\n",
       "</style>\n",
       "<small>shape: (51, 2)</small><table border=\"1\" class=\"dataframe\"><thead><tr><th>state</th><th>group</th></tr><tr><td>str</td><td>i64</td></tr></thead><tbody><tr><td>&quot;Alabama&quot;</td><td>1</td></tr><tr><td>&quot;Mississippi&quot;</td><td>1</td></tr><tr><td>&quot;Louisiana&quot;</td><td>1</td></tr><tr><td>&quot;Oklahoma&quot;</td><td>1</td></tr><tr><td>&quot;Alaska&quot;</td><td>1</td></tr><tr><td>&hellip;</td><td>&hellip;</td></tr><tr><td>&quot;Utah&quot;</td><td>16</td></tr><tr><td>&quot;Virginia&quot;</td><td>17</td></tr><tr><td>&quot;Minnesota&quot;</td><td>18</td></tr><tr><td>&quot;New Mexico&quot;</td><td>19</td></tr><tr><td>&quot;New Hampshire&quot;</td><td>20</td></tr></tbody></table></div>"
      ],
      "text/plain": [
       "shape: (51, 2)\n",
       "┌───────────────┬───────┐\n",
       "│ state         ┆ group │\n",
       "│ ---           ┆ ---   │\n",
       "│ str           ┆ i64   │\n",
       "╞═══════════════╪═══════╡\n",
       "│ Alabama       ┆ 1     │\n",
       "│ Mississippi   ┆ 1     │\n",
       "│ Louisiana     ┆ 1     │\n",
       "│ Oklahoma      ┆ 1     │\n",
       "│ Alaska        ┆ 1     │\n",
       "│ …             ┆ …     │\n",
       "│ Utah          ┆ 16    │\n",
       "│ Virginia      ┆ 17    │\n",
       "│ Minnesota     ┆ 18    │\n",
       "│ New Mexico    ┆ 19    │\n",
       "│ New Hampshire ┆ 20    │\n",
       "└───────────────┴───────┘"
      ]
     },
     "execution_count": 5,
     "metadata": {},
     "output_type": "execute_result"
    }
   ],
   "source": [
    "state_groups = pl.read_csv(\"data/state_groups2.csv\")\n",
    "state_groups"
   ]
  },
  {
   "cell_type": "code",
   "execution_count": 6,
   "metadata": {},
   "outputs": [
    {
     "data": {
      "text/html": [
       "<div><style>\n",
       ".dataframe > thead > tr,\n",
       ".dataframe > tbody > tr {\n",
       "  text-align: right;\n",
       "  white-space: pre-wrap;\n",
       "}\n",
       "</style>\n",
       "<small>shape: (51, 5)</small><table border=\"1\" class=\"dataframe\"><thead><tr><th>Full_State</th><th>Abb_State</th><th>Electoral_College_Votes</th><th>banzhaf_power_index</th><th>group</th></tr><tr><td>str</td><td>str</td><td>i64</td><td>f64</td><td>i64</td></tr></thead><tbody><tr><td>&quot;Alabama&quot;</td><td>&quot;AL&quot;</td><td>9</td><td>1.6</td><td>1</td></tr><tr><td>&quot;Mississippi&quot;</td><td>&quot;MS&quot;</td><td>6</td><td>1.1</td><td>1</td></tr><tr><td>&quot;Louisiana&quot;</td><td>&quot;LA&quot;</td><td>8</td><td>1.5</td><td>1</td></tr><tr><td>&quot;Oklahoma&quot;</td><td>&quot;OK&quot;</td><td>7</td><td>1.3</td><td>1</td></tr><tr><td>&quot;Alaska&quot;</td><td>&quot;AK&quot;</td><td>3</td><td>0.7</td><td>1</td></tr><tr><td>&hellip;</td><td>&hellip;</td><td>&hellip;</td><td>&hellip;</td><td>&hellip;</td></tr><tr><td>&quot;Utah&quot;</td><td>&quot;UT&quot;</td><td>6</td><td>1.1</td><td>16</td></tr><tr><td>&quot;Virginia&quot;</td><td>&quot;VA&quot;</td><td>13</td><td>2.4</td><td>17</td></tr><tr><td>&quot;Minnesota&quot;</td><td>&quot;MN&quot;</td><td>10</td><td>1.8</td><td>18</td></tr><tr><td>&quot;New Mexico&quot;</td><td>&quot;NM&quot;</td><td>5</td><td>0.9</td><td>19</td></tr><tr><td>&quot;New Hampshire&quot;</td><td>&quot;NH&quot;</td><td>4</td><td>0.7</td><td>20</td></tr></tbody></table></div>"
      ],
      "text/plain": [
       "shape: (51, 5)\n",
       "┌───────────────┬───────────┬─────────────────────────┬─────────────────────┬───────┐\n",
       "│ Full_State    ┆ Abb_State ┆ Electoral_College_Votes ┆ banzhaf_power_index ┆ group │\n",
       "│ ---           ┆ ---       ┆ ---                     ┆ ---                 ┆ ---   │\n",
       "│ str           ┆ str       ┆ i64                     ┆ f64                 ┆ i64   │\n",
       "╞═══════════════╪═══════════╪═════════════════════════╪═════════════════════╪═══════╡\n",
       "│ Alabama       ┆ AL        ┆ 9                       ┆ 1.6                 ┆ 1     │\n",
       "│ Mississippi   ┆ MS        ┆ 6                       ┆ 1.1                 ┆ 1     │\n",
       "│ Louisiana     ┆ LA        ┆ 8                       ┆ 1.5                 ┆ 1     │\n",
       "│ Oklahoma      ┆ OK        ┆ 7                       ┆ 1.3                 ┆ 1     │\n",
       "│ Alaska        ┆ AK        ┆ 3                       ┆ 0.7                 ┆ 1     │\n",
       "│ …             ┆ …         ┆ …                       ┆ …                   ┆ …     │\n",
       "│ Utah          ┆ UT        ┆ 6                       ┆ 1.1                 ┆ 16    │\n",
       "│ Virginia      ┆ VA        ┆ 13                      ┆ 2.4                 ┆ 17    │\n",
       "│ Minnesota     ┆ MN        ┆ 10                      ┆ 1.8                 ┆ 18    │\n",
       "│ New Mexico    ┆ NM        ┆ 5                       ┆ 0.9                 ┆ 19    │\n",
       "│ New Hampshire ┆ NH        ┆ 4                       ┆ 0.7                 ┆ 20    │\n",
       "└───────────────┴───────────┴─────────────────────────┴─────────────────────┴───────┘"
      ]
     },
     "execution_count": 6,
     "metadata": {},
     "output_type": "execute_result"
    }
   ],
   "source": [
    "joined = college.join(state_groups, left_on=\"Full_State\", right_on=\"state\", how=\"inner\")\n",
    "joined"
   ]
  },
  {
   "cell_type": "code",
   "execution_count": null,
   "metadata": {},
   "outputs": [],
   "source": [
    "joined.group_by(\"group\").agg(\n",
    "    pl.sum(\"Electoral_College_Votes\").alias(\"total_votes\"),\n",
    "    pl.sum(\"banzhaf_power_index\").alias(\"total_banzhaf_power\"),\n",
    "    pl.col(\"Full_State\").str.concat(delimiter=\",\").alias(\"states\"),\n",
    ").write_csv(\"data/electoral_college_banzhaf2.csv\")"
   ]
  },
  {
   "cell_type": "code",
   "execution_count": 3,
   "metadata": {},
   "outputs": [
    {
     "data": {
      "text/html": [
       "<div><style>\n",
       ".dataframe > thead > tr,\n",
       ".dataframe > tbody > tr {\n",
       "  text-align: right;\n",
       "  white-space: pre-wrap;\n",
       "}\n",
       "</style>\n",
       "<small>shape: (20, 5)</small><table border=\"1\" class=\"dataframe\"><thead><tr><th>group</th><th>total_votes</th><th>total_banzhaf_power</th><th>states</th><th>grouped_index</th></tr><tr><td>i64</td><td>i64</td><td>f64</td><td>str</td><td>f64</td></tr></thead><tbody><tr><td>1</td><td>85</td><td>15.9</td><td>&quot;Alabama,Mississippi,Louisiana,…</td><td>0.104511</td></tr><tr><td>5</td><td>20</td><td>3.7</td><td>&quot;Pennsylvania&quot;</td><td>0.050962</td></tr><tr><td>16</td><td>6</td><td>1.1</td><td>&quot;Utah&quot;</td><td>0.01523</td></tr><tr><td>20</td><td>4</td><td>0.7</td><td>&quot;New Hampshire&quot;</td><td>0.010219</td></tr><tr><td>2</td><td>186</td><td>35.8</td><td>&quot;California,Connecticut,Delawar…</td><td>0.902917</td></tr><tr><td>&hellip;</td><td>&hellip;</td><td>&hellip;</td><td>&hellip;</td><td>&hellip;</td></tr><tr><td>4</td><td>11</td><td>2.0</td><td>&quot;Arizona&quot;</td><td>0.027973</td></tr><tr><td>7</td><td>29</td><td>5.4</td><td>&quot;Florida&quot;</td><td>0.073763</td></tr><tr><td>18</td><td>10</td><td>1.8</td><td>&quot;Minnesota&quot;</td><td>0.025414</td></tr><tr><td>9</td><td>6</td><td>1.1</td><td>&quot;Iowa&quot;</td><td>0.01523</td></tr><tr><td>10</td><td>11</td><td>2.0</td><td>&quot;Indiana&quot;</td><td>0.027973</td></tr></tbody></table></div>"
      ],
      "text/plain": [
       "shape: (20, 5)\n",
       "┌───────┬─────────────┬─────────────────────┬─────────────────────────────────┬───────────────┐\n",
       "│ group ┆ total_votes ┆ total_banzhaf_power ┆ states                          ┆ grouped_index │\n",
       "│ ---   ┆ ---         ┆ ---                 ┆ ---                             ┆ ---           │\n",
       "│ i64   ┆ i64         ┆ f64                 ┆ str                             ┆ f64           │\n",
       "╞═══════╪═════════════╪═════════════════════╪═════════════════════════════════╪═══════════════╡\n",
       "│ 1     ┆ 85          ┆ 15.9                ┆ Alabama,Mississippi,Louisiana,… ┆ 0.104511      │\n",
       "│ 5     ┆ 20          ┆ 3.7                 ┆ Pennsylvania                    ┆ 0.050962      │\n",
       "│ 16    ┆ 6           ┆ 1.1                 ┆ Utah                            ┆ 0.01523       │\n",
       "│ 20    ┆ 4           ┆ 0.7                 ┆ New Hampshire                   ┆ 0.010219      │\n",
       "│ 2     ┆ 186         ┆ 35.8                ┆ California,Connecticut,Delawar… ┆ 0.902917      │\n",
       "│ …     ┆ …           ┆ …                   ┆ …                               ┆ …             │\n",
       "│ 4     ┆ 11          ┆ 2.0                 ┆ Arizona                         ┆ 0.027973      │\n",
       "│ 7     ┆ 29          ┆ 5.4                 ┆ Florida                         ┆ 0.073763      │\n",
       "│ 18    ┆ 10          ┆ 1.8                 ┆ Minnesota                       ┆ 0.025414      │\n",
       "│ 9     ┆ 6           ┆ 1.1                 ┆ Iowa                            ┆ 0.01523       │\n",
       "│ 10    ┆ 11          ┆ 2.0                 ┆ Indiana                         ┆ 0.027973      │\n",
       "└───────┴─────────────┴─────────────────────┴─────────────────────────────────┴───────────────┘"
      ]
     },
     "execution_count": 3,
     "metadata": {},
     "output_type": "execute_result"
    }
   ],
   "source": [
    "all_data = pl.read_csv(\"data/electoral_college_banzhaf.csv\")\n",
    "all_data"
   ]
  },
  {
   "cell_type": "code",
   "execution_count": 4,
   "metadata": {},
   "outputs": [
    {
     "data": {
      "text/html": [
       "<div><style>\n",
       ".dataframe > thead > tr,\n",
       ".dataframe > tbody > tr {\n",
       "  text-align: right;\n",
       "  white-space: pre-wrap;\n",
       "}\n",
       "</style>\n",
       "<small>shape: (20, 3)</small><table border=\"1\" class=\"dataframe\"><thead><tr><th>states</th><th>total_banzhaf_power</th><th>grouped_index</th></tr><tr><td>str</td><td>f64</td><td>f64</td></tr></thead><tbody><tr><td>&quot;Alabama,Mississippi,Louisiana,…</td><td>0.159</td><td>0.063116</td></tr><tr><td>&quot;Pennsylvania&quot;</td><td>0.037</td><td>0.030777</td></tr><tr><td>&quot;Utah&quot;</td><td>0.011</td><td>0.009198</td></tr><tr><td>&quot;New Hampshire&quot;</td><td>0.007</td><td>0.006171</td></tr><tr><td>&quot;California,Connecticut,Delawar…</td><td>0.358</td><td>0.54529</td></tr><tr><td>&hellip;</td><td>&hellip;</td><td>&hellip;</td></tr><tr><td>&quot;Arizona&quot;</td><td>0.02</td><td>0.016894</td></tr><tr><td>&quot;Florida&quot;</td><td>0.054</td><td>0.044547</td></tr><tr><td>&quot;Minnesota&quot;</td><td>0.018</td><td>0.015348</td></tr><tr><td>&quot;Iowa&quot;</td><td>0.011</td><td>0.009198</td></tr><tr><td>&quot;Indiana&quot;</td><td>0.02</td><td>0.016894</td></tr></tbody></table></div>"
      ],
      "text/plain": [
       "shape: (20, 3)\n",
       "┌─────────────────────────────────┬─────────────────────┬───────────────┐\n",
       "│ states                          ┆ total_banzhaf_power ┆ grouped_index │\n",
       "│ ---                             ┆ ---                 ┆ ---           │\n",
       "│ str                             ┆ f64                 ┆ f64           │\n",
       "╞═════════════════════════════════╪═════════════════════╪═══════════════╡\n",
       "│ Alabama,Mississippi,Louisiana,… ┆ 0.159               ┆ 0.063116      │\n",
       "│ Pennsylvania                    ┆ 0.037               ┆ 0.030777      │\n",
       "│ Utah                            ┆ 0.011               ┆ 0.009198      │\n",
       "│ New Hampshire                   ┆ 0.007               ┆ 0.006171      │\n",
       "│ California,Connecticut,Delawar… ┆ 0.358               ┆ 0.54529       │\n",
       "│ …                               ┆ …                   ┆ …             │\n",
       "│ Arizona                         ┆ 0.02                ┆ 0.016894      │\n",
       "│ Florida                         ┆ 0.054               ┆ 0.044547      │\n",
       "│ Minnesota                       ┆ 0.018               ┆ 0.015348      │\n",
       "│ Iowa                            ┆ 0.011               ┆ 0.009198      │\n",
       "│ Indiana                         ┆ 0.02                ┆ 0.016894      │\n",
       "└─────────────────────────────────┴─────────────────────┴───────────────┘"
      ]
     },
     "execution_count": 4,
     "metadata": {},
     "output_type": "execute_result"
    }
   ],
   "source": [
    "all_data = all_data.with_columns(\n",
    "    total_banzhaf_power=pl.col(\"total_banzhaf_power\") / 100,\n",
    "    grouped_index=pl.col(\"grouped_index\") / pl.sum(\"grouped_index\"),\n",
    ").select([\"states\", \"total_banzhaf_power\", \"grouped_index\"])\n",
    "all_data"
   ]
  },
  {
   "cell_type": "code",
   "execution_count": 5,
   "metadata": {},
   "outputs": [],
   "source": [
    "all_data.write_csv(\"data/electoral_college_banzhaf_all_data.csv\")"
   ]
  },
  {
   "cell_type": "code",
   "execution_count": null,
   "metadata": {},
   "outputs": [],
   "source": []
  }
 ],
 "metadata": {
  "kernelspec": {
   "display_name": "cse217a",
   "language": "python",
   "name": "python3"
  },
  "language_info": {
   "codemirror_mode": {
    "name": "ipython",
    "version": 3
   },
   "file_extension": ".py",
   "mimetype": "text/x-python",
   "name": "python",
   "nbconvert_exporter": "python",
   "pygments_lexer": "ipython3",
   "version": "3.10.14"
  }
 },
 "nbformat": 4,
 "nbformat_minor": 2
}
