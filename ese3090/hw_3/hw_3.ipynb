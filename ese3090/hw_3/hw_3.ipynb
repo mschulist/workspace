{
 "cells": [
  {
   "cell_type": "code",
   "execution_count": 3,
   "metadata": {},
   "outputs": [],
   "source": [
    "import numpy as np"
   ]
  },
  {
   "cell_type": "code",
   "execution_count": 4,
   "metadata": {},
   "outputs": [],
   "source": [
    "voter_map = {\n",
    "    0: 5,  # A\n",
    "    1: 3,  # B\n",
    "    2: 3,  # C\n",
    "    3: 2,  # D\n",
    "}"
   ]
  },
  {
   "cell_type": "code",
   "execution_count": 5,
   "metadata": {},
   "outputs": [],
   "source": [
    "import itertools\n",
    "\n",
    "voters = np.array([0, 1, 2, 3])\n",
    "\n",
    "all_permutations = np.array(list(itertools.permutations(voters)))"
   ]
  },
  {
   "cell_type": "code",
   "execution_count": 6,
   "metadata": {},
   "outputs": [],
   "source": [
    "all_permutations\n",
    "\n",
    "quota = 9\n",
    "\n",
    "pivotal = [0, 0, 0, 0]\n",
    "\n",
    "for i in range(len(all_permutations)):\n",
    "    sum = 0\n",
    "    for j in range(4):\n",
    "        sum += voter_map[all_permutations[i][j]]\n",
    "        if sum >= quota:\n",
    "            pivotal[all_permutations[i][j]] += 1\n",
    "            break"
   ]
  },
  {
   "cell_type": "code",
   "execution_count": 7,
   "metadata": {},
   "outputs": [
    {
     "data": {
      "text/plain": [
       "array([0.5       , 0.16666667, 0.16666667, 0.16666667])"
      ]
     },
     "execution_count": 7,
     "metadata": {},
     "output_type": "execute_result"
    }
   ],
   "source": [
    "pivotal / np.sum(pivotal)"
   ]
  },
  {
   "cell_type": "code",
   "execution_count": 8,
   "metadata": {},
   "outputs": [],
   "source": [
    "from winning_coalitions import Coalitions"
   ]
  },
  {
   "cell_type": "code",
   "execution_count": 9,
   "metadata": {},
   "outputs": [
    {
     "data": {
      "text/plain": [
       "array([0.41666667, 0.25      , 0.25      , 0.08333333])"
      ]
     },
     "execution_count": 9,
     "metadata": {},
     "output_type": "execute_result"
    }
   ],
   "source": [
    "w = np.array([5, 3, 3, 2])\n",
    "\n",
    "coalitions = Coalitions(w, 8)\n",
    "\n",
    "coalitions.relative_power"
   ]
  },
  {
   "cell_type": "code",
   "execution_count": 10,
   "metadata": {},
   "outputs": [
    {
     "data": {
      "text/plain": [
       "5.45045045045045"
      ]
     },
     "execution_count": 10,
     "metadata": {},
     "output_type": "execute_result"
    }
   ],
   "source": [
    "121 / 444 * 20"
   ]
  },
  {
   "cell_type": "code",
   "execution_count": 13,
   "metadata": {},
   "outputs": [],
   "source": [
    "def hamilton_method(quota: np.ndarray, seats: int):\n",
    "    seats_unrounded = quota / quota.sum() * seats\n",
    "    seats_arr = np.floor(seats_unrounded)\n",
    "\n",
    "    remainder = seats_unrounded % 1\n",
    "\n",
    "    while seats_arr.sum() < seats:\n",
    "        max_index = np.argmax(remainder)\n",
    "        seats_arr[max_index] += 1\n",
    "        remainder[max_index] = 0\n",
    "\n",
    "    return seats_arr"
   ]
  },
  {
   "cell_type": "code",
   "execution_count": 14,
   "metadata": {},
   "outputs": [
    {
     "data": {
      "text/plain": [
       "array([6., 4., 3., 2., 1., 1., 3.])"
      ]
     },
     "execution_count": 14,
     "metadata": {},
     "output_type": "execute_result"
    }
   ],
   "source": [
    "quota = np.array([5.45, 4.23, 3.42, 2.16, 0.91, 1.08, 2.75])\n",
    "seats = 20\n",
    "\n",
    "hamilton_method(quota, seats)"
   ]
  },
  {
   "cell_type": "code",
   "execution_count": 22,
   "metadata": {},
   "outputs": [],
   "source": [
    "def jefferson_method(pop: np.ndarray, seats: int):\n",
    "    d = pop.sum() / 20\n",
    "\n",
    "    app = np.floor(pop / d)\n",
    "\n",
    "    while app.sum() != seats:\n",
    "        if app.sum() < seats:\n",
    "            d -= 1\n",
    "        else:\n",
    "            d += 1\n",
    "        app = np.floor(pop / d)\n",
    "    return app"
   ]
  },
  {
   "cell_type": "code",
   "execution_count": 24,
   "metadata": {},
   "outputs": [
    {
     "data": {
      "text/plain": [
       "array([6., 4., 3., 2., 1., 1., 3.])"
      ]
     },
     "execution_count": 24,
     "metadata": {},
     "output_type": "execute_result"
    }
   ],
   "source": [
    "pop = np.array([121, 94, 76, 48, 20, 24, 61])\n",
    "seats = 20\n",
    "\n",
    "jefferson_method(pop, seats)"
   ]
  },
  {
   "cell_type": "code",
   "execution_count": null,
   "metadata": {},
   "outputs": [],
   "source": []
  }
 ],
 "metadata": {
  "kernelspec": {
   "display_name": "cse217a",
   "language": "python",
   "name": "python3"
  },
  "language_info": {
   "codemirror_mode": {
    "name": "ipython",
    "version": 3
   },
   "file_extension": ".py",
   "mimetype": "text/x-python",
   "name": "python",
   "nbconvert_exporter": "python",
   "pygments_lexer": "ipython3",
   "version": "3.10.14"
  }
 },
 "nbformat": 4,
 "nbformat_minor": 2
}
